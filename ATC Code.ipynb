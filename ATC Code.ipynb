{
 "cells": [
  {
   "cell_type": "markdown",
   "metadata": {},
   "source": [
    "# ATC Classification Mappings"
   ]
  },
  {
   "cell_type": "code",
   "execution_count": 9,
   "metadata": {
    "ExecuteTime": {
     "end_time": "2018-09-23T20:49:45.151364Z",
     "start_time": "2018-09-23T20:49:45.148394Z"
    },
    "code_folding": []
   },
   "outputs": [],
   "source": [
    "#imports \n",
    "\n",
    "import re \n",
    "import numpy as np\n",
    "import pandas as pd"
   ]
  },
  {
   "cell_type": "markdown",
   "metadata": {},
   "source": [
    "### Build ATC Mapping\n",
    "The following code is the function to build the ATC Mapping for different levels. This mapping allows easy identification of ancestor-descendant relationships. A pre-built mapping of all drugs found in AEOLUS/FAERS is provided in the \"ATC_MAPPING.csv\" file. However, this code can be used to create a new map of any list of drugs given their drug concept IDS. "
   ]
  },
  {
   "cell_type": "code",
   "execution_count": 10,
   "metadata": {
    "ExecuteTime": {
     "end_time": "2018-09-23T20:49:45.879790Z",
     "start_time": "2018-09-23T20:49:45.867313Z"
    },
    "code_folding": [
     0,
     8,
     37
    ]
   },
   "outputs": [],
   "source": [
    "# BUILD ATC MAP \n",
    "\n",
    "# map different ATC levels to create ancestor-descendant relationships\n",
    "# writes to \"ATC_MAPPING.csv\" file in ROOT directory\n",
    "# pass any numpy int array of ATC drug concept IDs here as concept_ids parameter\n",
    "# currently builds a map of all IDs found in AEOLUS\n",
    "# pass str path of files location to ROOT\n",
    "# ignore 'low memory' error if thrown\n",
    "def build_ATC_map(ROOT, concept_ids):\n",
    "\n",
    "    #reads ATC data provided by OHDSI\n",
    "    ATC_ancestor = pd.read_csv(ROOT + \"CONCEPT_ANCESTOR.csv\", delimiter=\"\\t\")\n",
    "    ATC_concept = pd.read_csv(ROOT + \"CONCEPT.csv\", delimiter=\"\\t\")\n",
    "\n",
    "    #set up ATC mapping dataframe\n",
    "    descendant_concept_id = concept_ids.unique()\n",
    "    columns = [\n",
    "        'ATC 1st id', 'ATC 1st name', \n",
    "        'ATC 2nd id', 'ATC 2nd name',\n",
    "        'ATC 3rd id', 'ATC 3rd name', \n",
    "        'ATC 4th id', 'ATC 4th name',\n",
    "        'ATC 5th id', 'ATC 5th name']\n",
    "    ATC_mapping = pd.DataFrame(columns=columns, index=descendant_concept_id)\n",
    "\n",
    "    #add values to ATC mapping\n",
    "    for drugID in ATC_mapping.index.values:\n",
    "        ancestors = ATC_ancestor.query('descendant_concept_id==@drugID')['ancestor_concept_id'].values\n",
    "        result = ATC_concept[ATC_concept['concept_id'].isin(ancestors)]\\\n",
    "                                                        .query('vocabulary_id==\"ATC\"')\\\n",
    "                                                        .set_index('concept_class_id')\n",
    "        for classid, row in result.iterrows():\n",
    "            idCol = str(classid) + ' id'\n",
    "            nameCol = str(classid) + ' name'\n",
    "            ATC_mapping.at[drugID, idCol] = row.concept_id\n",
    "            ATC_mapping.at[drugID, nameCol] = row.concept_name\n",
    "\n",
    "    #reformat\n",
    "    columns = [\n",
    "        'ATC_1_id', 'ATC_1_name', \n",
    "        'ATC_2_id', 'ATC_2_name', \n",
    "        'ATC_3_id', 'ATC_3_name', \n",
    "        'ATC_4_id', 'ATC_4_name', \n",
    "        'ATC_5_id', 'ATC_5_name']\n",
    "    ATC_mapping.columns = columns\n",
    "    ATC_mapping = ATC_mapping.reset_index().rename(columns={'index': 'drug_concept_id'})\n",
    "\n",
    "    #write to file\n",
    "    ATC_mapping.to_csv(ROOT + \"ATC_MAPPING.csv\")\n",
    "    \n",
    "    return\n",
    "\n",
    "ROOT = \"ATC Vocabulary/\"\n",
    "aeolus_ID = pd.read_csv(\"Reference Data/AEOLUS_DRUG_IDNAME.csv\")['drug_concept_id']\n",
    "\n",
    "#build_ATC_map(ROOT, aeolus_ID)"
   ]
  },
  {
   "cell_type": "markdown",
   "metadata": {},
   "source": [
    "### Use ATC Mapping\n",
    "\n",
    "The following code provides various functions to map, assign and group your data by ATC levels given drug concept names."
   ]
  },
  {
   "cell_type": "code",
   "execution_count": 11,
   "metadata": {
    "ExecuteTime": {
     "end_time": "2018-09-23T20:49:46.492769Z",
     "start_time": "2018-09-23T20:49:46.486399Z"
    },
    "code_folding": [
     0
    ]
   },
   "outputs": [],
   "source": [
    "# ASSIGN ATC LEVEL \n",
    "\n",
    "# Provide dataframe with column or index of 'drug_concept_name' and ATC Classification level \n",
    "# Returns same dataframe with added columns of NAME and ID for specified  Level\n",
    "def assignATC(df, ATC_level=\"3\"):\n",
    "    \n",
    "    #set up\n",
    "    ROOT = \"ATC Vocabulary/\"\n",
    "    ATC_mapping = pd.read_csv(ROOT + \"ATC_MAPPING.csv\")\n",
    "    aeolus_IDNAME = pd.read_csv(\"Reference Data/AEOLUS_DRUG_IDNAME.csv\")\n",
    "\n",
    "    if (type(ATC_level)!=str):\n",
    "        ATC_level = str(ATC_level)\n",
    "    \n",
    "    ATC_col = \"ATC_\" + ATC_level + \"_name\"\n",
    "    df = df.assign(newCol=\"\").rename(columns={'newCol': ATC_col})\n",
    "\n",
    "    if (df.index.name == 'drug_concept_name'):\n",
    "        for drugName, row in df.iterrows():\n",
    "            drugID = aeolus_IDNAME.query('drug_concept_name==@drugName')['drug_concept_id'].values\n",
    "            ATC_val = ATC_mapping.query('drug_concept_id==@drugID')[ATC_col].values[0]\n",
    "            df.at[drugName, ATC_col] = ATC_val\n",
    "    else:\n",
    "        for idx, row in df.iterrows():\n",
    "            drugName = row.drug_concept_name\n",
    "            drugID = aeolus_IDNAME.query('drug_concept_name==@drugName')['drug_concept_id'].values\n",
    "            ATC_val = ATC_mapping.query('drug_concept_id==@drugID')[ATC_col].values[0]\n",
    "            df.at[idx, ATC_col] = ATC_val\n",
    "    return df\n"
   ]
  },
  {
   "cell_type": "code",
   "execution_count": 12,
   "metadata": {
    "ExecuteTime": {
     "end_time": "2018-09-23T20:49:46.785818Z",
     "start_time": "2018-09-23T20:49:46.778828Z"
    },
    "code_folding": [
     0
    ]
   },
   "outputs": [],
   "source": [
    "# GROUP BY ATC level (& any secondary column) \n",
    "\n",
    "# Provide dataframe with column or index of 'drug_concept_name' \n",
    "# Input dataframe need not have ATC information ~ just a column of drug names is sufficient\n",
    "# Defaults to ATC_level 3, but can be set between 1 and 5\n",
    "# Defaults to returning all counts for give ATC level, but a minimum count can be specified\n",
    "# Returns dataframe of ATC level drug IDs and NAMEs with counts found in input dataframe\n",
    "def groupbyATC(df, ATC_level=\"3\", minimum_count=0, secondary=\"\"):\n",
    "    \n",
    "    #set up\n",
    "    ROOT = \"ATC Vocabulary/\"\n",
    "    ATC_mapping = pd.read_csv(ROOT + \"ATC_MAPPING.csv\")\n",
    "    aeolus_IDNAME = pd.read_csv(\"Reference Data/AEOLUS_DRUG_IDNAME.csv\")\n",
    "\n",
    "    if (type(ATC_level)!=str):\n",
    "        ATC_level = str(ATC_level)\n",
    "\n",
    "    ATC_col = \"ATC_\" + ATC_level + \"_name\"\n",
    "    if(ATC_col not in df.columns):\n",
    "        df = assignATC(df, ATC_level=ATC_level)\n",
    "\n",
    "    if (bool(secondary)):\n",
    "        df_grouped = df.groupby([ATC_col, secondary]).count()\n",
    "    else:\n",
    "        df_grouped = df.groupby(ATC_col).count()\n",
    "\n",
    "    df_grouped = df_grouped.take(\n",
    "        [0], axis=1).rename(columns={df_grouped.columns[0]: \"count\"})\n",
    "\n",
    "    if (bool(minimum_count)):\n",
    "        df_grouped = df_grouped[df_grouped['count'] > minimum_count]\n",
    "\n",
    "    return df_grouped"
   ]
  },
  {
   "cell_type": "code",
   "execution_count": 13,
   "metadata": {
    "ExecuteTime": {
     "end_time": "2018-09-23T20:49:47.093199Z",
     "start_time": "2018-09-23T20:49:47.086100Z"
    },
    "code_folding": [
     0
    ]
   },
   "outputs": [],
   "source": [
    "# GET DATA BY ATC GROUP \n",
    "\n",
    "# extract information for a specific ATC grouping at a specific ATC level from your dataframe \n",
    "def getdataforATCgroup(df, ATCgroup, ATC_level=\"3\"):\n",
    "    if (type(ATC_level)!=str):\n",
    "        ATC_level = str(ATC_level)\n",
    "    \n",
    "    ATC_col = \"ATC_\" + ATC_level + \"_name\"\n",
    "    indicesToKeep = []\n",
    "\n",
    "    if (df.index.name == 'drug_concept_name'):\n",
    "        for drugName, row in df.iterrows():\n",
    "            drugID = aeolus_IDNAME.query('drug_concept_name==@drugName')[\n",
    "                'drug_concept_id'].values\n",
    "            ATC_val = ATC_mapping.query('drug_concept_id==@drugID')[\n",
    "                ATC_col].values[0]\n",
    "            if (ATC_val == ATCgroup):\n",
    "                indicesToKeep = np.append(indicesToKeep, drugName)\n",
    "    else:\n",
    "        for idx, row in df.iterrows():\n",
    "            drugName = row.drug_concept_name\n",
    "            drugID = aeolus_IDNAME.query('drug_concept_name==@drugName')[\n",
    "                'drug_concept_id'].values\n",
    "            ATC_val = ATC_mapping.query('drug_concept_id==@drugID')[\n",
    "                ATC_col].values[0]\n",
    "            if (ATC_val == ATCgroup):\n",
    "                indicesToKeep = np.append(indicesToKeep, idx)\n",
    "\n",
    "    return df.loc[indicesToKeep, :]"
   ]
  }
 ],
 "metadata": {
  "kernelspec": {
   "display_name": "Python 3",
   "language": "python",
   "name": "python3"
  },
  "language_info": {
   "codemirror_mode": {
    "name": "ipython",
    "version": 3
   },
   "file_extension": ".py",
   "mimetype": "text/x-python",
   "name": "python",
   "nbconvert_exporter": "python",
   "pygments_lexer": "ipython3",
   "version": "3.6.5"
  },
  "toc": {
   "base_numbering": 1,
   "nav_menu": {},
   "number_sections": false,
   "sideBar": true,
   "skip_h1_title": false,
   "title_cell": "Table of Contents",
   "title_sidebar": "Contents",
   "toc_cell": false,
   "toc_position": {},
   "toc_section_display": true,
   "toc_window_display": false
  }
 },
 "nbformat": 4,
 "nbformat_minor": 2
}
