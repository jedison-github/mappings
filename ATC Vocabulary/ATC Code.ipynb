{
 "cells": [
  {
   "cell_type": "markdown",
   "metadata": {},
   "source": [
    "# Mappings"
   ]
  },
  {
   "cell_type": "code",
   "execution_count": 31,
   "metadata": {
    "ExecuteTime": {
     "end_time": "2018-09-23T20:10:20.247579Z",
     "start_time": "2018-09-23T20:10:20.243567Z"
    },
    "code_folding": [
     0
    ]
   },
   "outputs": [],
   "source": [
    "#imports \n",
    "\n",
    "import re \n",
    "\n",
    "import feather\n",
    "import numpy as np\n",
    "import pandas as pd\n",
    "import scipy as sc\n",
    "\n",
    "ROOT = \"/Users/payalchandak/Not On Dropbox/Data/Sex Demographics/\" "
   ]
  },
  {
   "cell_type": "code",
   "execution_count": 26,
   "metadata": {
    "ExecuteTime": {
     "end_time": "2018-09-23T20:05:28.989244Z",
     "start_time": "2018-09-23T20:05:28.975073Z"
    },
    "code_folding": [
     0,
     37
    ]
   },
   "outputs": [],
   "source": [
    "# Map ATC fuction \n",
    "\n",
    "# code to map different ATC levels to create ancestor-descendant relationships\n",
    "# writes to \"ATC_MAPPING.csv\" file in ROOT directory\n",
    "# pass any numpy int array of ATC drug concept IDs here as concept_ids parameter\n",
    "# currently builds a map of all IDs found in AEOLUS\n",
    "# pass str path of files location to ROOT\n",
    "# ignore 'low memory' error if thrown\n",
    "def build_ATC_map(ROOT, concept_ids):\n",
    "\n",
    "    #reads ATC data provided by OHDSI\n",
    "    ATC_ancestor = pd.read_csv(ROOT + \"CONCEPT_ANCESTOR.csv\", delimiter=\"\\t\")\n",
    "    ATC_concept = pd.read_csv(ROOT + \"CONCEPT.csv\", delimiter=\"\\t\")\n",
    "\n",
    "    #set up ATC mapping dataframe\n",
    "    descendant_concept_id = concept_ids.unique()\n",
    "    columns = [\n",
    "        'ATC 1st id', 'ATC 1st name', \n",
    "        'ATC 2nd id', 'ATC 2nd name',\n",
    "        'ATC 3rd id', 'ATC 3rd name', \n",
    "        'ATC 4th id', 'ATC 4th name',\n",
    "        'ATC 5th id', 'ATC 5th name']\n",
    "    ATC_mapping = pd.DataFrame(columns=columns, index=descendant_concept_id)\n",
    "\n",
    "    #add values to ATC mapping\n",
    "    for drugID in ATC_mapping.index.values:\n",
    "        ancestors = ATC_ancestor.query('descendant_concept_id==@drugID')['ancestor_concept_id'].values\n",
    "        result = ATC_concept[ATC_concept['concept_id'].isin(ancestors)]\\\n",
    "                                                        .query('vocabulary_id==\"ATC\"')\\\n",
    "                                                        .set_index('concept_class_id')\n",
    "        for classid, row in result.iterrows():\n",
    "            idCol = str(classid) + ' id'\n",
    "            nameCol = str(classid) + ' name'\n",
    "            ATC_mapping.at[drugID, idCol] = row.concept_id\n",
    "            ATC_mapping.at[drugID, nameCol] = row.concept_name\n",
    "\n",
    "    #reformat\n",
    "    columns = [\n",
    "        'ATC_1_id', 'ATC_1_name', \n",
    "        'ATC_2_id', 'ATC_2_name', \n",
    "        'ATC_3_id', 'ATC_3_name', \n",
    "        'ATC_4_id', 'ATC_4_name', \n",
    "        'ATC_5_id', 'ATC_5_name']\n",
    "    ATC_mapping.columns = columns\n",
    "    ATC_mapping = ATC_mapping.reset_index().rename(columns={'index': 'drug_concept_id'})\n",
    "\n",
    "    #write to file\n",
    "    ATC_mapping.to_csv(ROOT + \"ATC_MAPPING.csv\")\n",
    "    \n",
    "    return"
   ]
  },
  {
   "cell_type": "code",
   "execution_count": null,
   "metadata": {},
   "outputs": [],
   "source": [
    "ROOT = \"ATC Vocabulary/\"\n",
    "aeolus_ID = pd.read_csv(\"Reference Data/AEOLUS_DRUG_IDNAME.csv\")['drug_concept_id']\n",
    "\n",
    "build_ATC_map(ROOT, concept_ids)"
   ]
  },
  {
   "cell_type": "code",
   "execution_count": null,
   "metadata": {
    "code_folding": [
     0
    ]
   },
   "outputs": [],
   "source": [
    "#ATC handling functions     \n",
    "\n",
    "#files needed by functions:\n",
    "ATC_mapping = pd.read_csv(ROOT + \"ATC_MAPPING.csv\")\n",
    "aeolus_IDNAME = pd.read_csv(\"Reference Data/AEOLUS_DRUG_IDNAME.csv\")\n",
    "\n",
    "def assignATC(df, ATC_level=\"3\"):\n",
    "    if (type(ATC_level)!=str):\n",
    "        ATC_level = str(ATC_level)\n",
    "    \n",
    "    ATC_col = \"ATC_\" + ATC_level + \"_name\"\n",
    "    df = df.assign(newCol=\"\").rename(columns={'newCol': ATC_col})\n",
    "\n",
    "    if (df.index.name == 'drug_concept_name'):\n",
    "        for drugName, row in df.iterrows():\n",
    "            drugID = aeolus_IDNAME.query('drug_concept_name==@drugName')['drug_concept_id'].values\n",
    "            ATC_val = ATC_mapping.query('drug_concept_id==@drugID')[ATC_col].values[0]\n",
    "            df.at[drugName, ATC_col] = ATC_val\n",
    "    else:\n",
    "        for idx, row in df.iterrows():\n",
    "            drugName = row.drug_concept_name\n",
    "            drugID = aeolus_IDNAME.query('drug_concept_name==@drugName')['drug_concept_id'].values\n",
    "            ATC_val = ATC_mapping.query('drug_concept_id==@drugID')[ATC_col].values[0]\n",
    "            df.at[idx, ATC_col] = ATC_val\n",
    "    return df\n",
    "\n",
    "def groupbyATC(df, ATC_level=\"3\", minimum_count=0, secondary=\"\"):\n",
    "    if (type(ATC_level)!=str):\n",
    "        ATC_level = str(ATC_level)\n",
    "\n",
    "    ATC_col = \"ATC_\" + ATC_level + \"_name\"\n",
    "    if(ATC_col not in df.columns):\n",
    "        df = assignATC(df, ATC_level=ATC_level)\n",
    "\n",
    "    if (bool(secondary)):\n",
    "        df_grouped = df.groupby([ATC_col, secondary]).count()\n",
    "    else:\n",
    "        df_grouped = df.groupby(ATC_col).count()\n",
    "\n",
    "    df_grouped = df_grouped.take(\n",
    "        [0], axis=1).rename(columns={df_grouped.columns[0]: \"count\"})\n",
    "\n",
    "    if (bool(minimum_count)):\n",
    "        df_grouped = df_grouped[df_grouped['count'] > minimum_count]\n",
    "\n",
    "    return df_grouped\n",
    "\n",
    "def getdataforATCgroup(df, ATCgroup, ATC_level=\"3\"):\n",
    "    if (type(ATC_level)!=str):\n",
    "        ATC_level = str(ATC_level)\n",
    "    \n",
    "    ATC_col = \"ATC_\" + ATC_level + \"_name\"\n",
    "    indicesToKeep = []\n",
    "\n",
    "    if (df.index.name == 'drug_concept_name'):\n",
    "        for drugName, row in df.iterrows():\n",
    "            drugID = aeolus_IDNAME.query('drug_concept_name==@drugName')[\n",
    "                'drug_concept_id'].values\n",
    "            ATC_val = ATC_mapping.query('drug_concept_id==@drugID')[\n",
    "                ATC_col].values[0]\n",
    "            if (ATC_val == ATCgroup):\n",
    "                indicesToKeep = np.append(indicesToKeep, drugName)\n",
    "    else:\n",
    "        for idx, row in df.iterrows():\n",
    "            drugName = row.drug_concept_name\n",
    "            drugID = aeolus_IDNAME.query('drug_concept_name==@drugName')[\n",
    "                'drug_concept_id'].values\n",
    "            ATC_val = ATC_mapping.query('drug_concept_id==@drugID')[\n",
    "                ATC_col].values[0]\n",
    "            if (ATC_val == ATCgroup):\n",
    "                indicesToKeep = np.append(indicesToKeep, idx)\n",
    "\n",
    "    return df.loc[indicesToKeep, :]"
   ]
  },
  {
   "cell_type": "code",
   "execution_count": 36,
   "metadata": {
    "ExecuteTime": {
     "end_time": "2018-09-23T20:14:54.697118Z",
     "start_time": "2018-09-23T20:14:54.679042Z"
    },
    "code_folding": [
     0,
     6,
     26,
     47
    ]
   },
   "outputs": [],
   "source": []
  },
  {
   "cell_type": "code",
   "execution_count": null,
   "metadata": {},
   "outputs": [],
   "source": []
  },
  {
   "cell_type": "code",
   "execution_count": 3,
   "metadata": {
    "ExecuteTime": {
     "end_time": "2018-09-23T18:35:23.755384Z",
     "start_time": "2018-09-23T18:35:23.739829Z"
    }
   },
   "outputs": [],
   "source": [
    "df_genderAsso_sig = pd.read_feather(ROOT+\"Stages/Significant Gender Associations.feather\")\n",
    "df_drugRisks_sig = pd.read_feather(ROOT+\"Stages/Significant Drug Risks.feather\").set_index('drug_concept_name')"
   ]
  },
  {
   "cell_type": "code",
   "execution_count": 2,
   "metadata": {
    "ExecuteTime": {
     "end_time": "2018-09-23T18:35:07.159113Z",
     "start_time": "2018-09-23T18:35:06.611747Z"
    },
    "code_folding": []
   },
   "outputs": [
    {
     "ename": "NameError",
     "evalue": "name 'df_genderAsso_sig' is not defined",
     "output_type": "error",
     "traceback": [
      "\u001b[0;31m---------------------------------------------------------------------------\u001b[0m",
      "\u001b[0;31mNameError\u001b[0m                                 Traceback (most recent call last)",
      "\u001b[0;32m<ipython-input-2-d8795a81a2cb>\u001b[0m in \u001b[0;36m<module>\u001b[0;34m()\u001b[0m\n\u001b[1;32m     16\u001b[0m \u001b[0moutRank\u001b[0m \u001b[0;34m=\u001b[0m \u001b[0mpd\u001b[0m\u001b[0;34m.\u001b[0m\u001b[0mread_excel\u001b[0m\u001b[0;34m(\u001b[0m\u001b[0mROOT\u001b[0m \u001b[0;34m+\u001b[0m \u001b[0;34m'Outcome Severity Mapping/Ranked ADRs.xlsx'\u001b[0m\u001b[0;34m,\u001b[0m \u001b[0msheet_name\u001b[0m\u001b[0;34m=\u001b[0m\u001b[0;34m'Ranked ADRs'\u001b[0m\u001b[0;34m)\u001b[0m\u001b[0;34m\u001b[0m\u001b[0m\n\u001b[1;32m     17\u001b[0m \u001b[0mdf_rankDict\u001b[0m \u001b[0;34m=\u001b[0m \u001b[0mpd\u001b[0m\u001b[0;34m.\u001b[0m\u001b[0mread_feather\u001b[0m\u001b[0;34m(\u001b[0m\u001b[0mROOT\u001b[0m \u001b[0;34m+\u001b[0m \u001b[0;34m\"Outcome Severity Mapping/Outcomes Dictionary.feather\"\u001b[0m\u001b[0;34m)\u001b[0m\u001b[0;34m\u001b[0m\u001b[0m\n\u001b[0;32m---> 18\u001b[0;31m \u001b[0maddDictRanks\u001b[0m\u001b[0;34m(\u001b[0m\u001b[0mdf_genderAsso_sig\u001b[0m\u001b[0;34m,\u001b[0m \u001b[0mrankDict\u001b[0m\u001b[0;34m=\u001b[0m\u001b[0mdf_rankDict\u001b[0m\u001b[0;34m,\u001b[0m \u001b[0mrankData\u001b[0m\u001b[0;34m=\u001b[0m\u001b[0moutRank\u001b[0m\u001b[0;34m)\u001b[0m\u001b[0;34m\u001b[0m\u001b[0m\n\u001b[0m",
      "\u001b[0;31mNameError\u001b[0m: name 'df_genderAsso_sig' is not defined"
     ]
    }
   ],
   "source": [
    "#ADDING MANUALLY MAPPED RANKS FOR MISSING DATA\n",
    "\n",
    "def addDictRanks(df, rankDict, rankData):\n",
    "    for i in df.index:\n",
    "        currentRank = df.at[i, 'outcome_rank']\n",
    "        if ((currentRank == -1) or (currentRank == 0)):\n",
    "            searchName = df.at[i, 'outcome_concept_name']\n",
    "            rankName = rankDict.query('outcome_concept_name==@searchName')[\n",
    "                'crowdsourced_name']\n",
    "            if (not rankName.empty):\n",
    "                rankName = rankName.item()\n",
    "                newRank = outRank.query('Name==@rankName')['Rank score']\n",
    "                df.at[i, 'outcome_rank'] = newRank\n",
    "\n",
    "\n",
    "outRank = pd.read_excel(ROOT + 'Outcome Severity Mapping/Ranked ADRs.xlsx', sheet_name='Ranked ADRs')\n",
    "df_rankDict = pd.read_feather(ROOT + \"Outcome Severity Mapping/Outcomes Dictionary.feather\")\n",
    "addDictRanks(df_genderAsso_sig, rankDict=df_rankDict, rankData=outRank)"
   ]
  },
  {
   "cell_type": "code",
   "execution_count": 6,
   "metadata": {
    "ExecuteTime": {
     "end_time": "2018-09-23T19:27:56.966225Z",
     "start_time": "2018-09-23T19:27:56.958218Z"
    }
   },
   "outputs": [
    {
     "data": {
      "text/html": [
       "<div>\n",
       "<style scoped>\n",
       "    .dataframe tbody tr th:only-of-type {\n",
       "        vertical-align: middle;\n",
       "    }\n",
       "\n",
       "    .dataframe tbody tr th {\n",
       "        vertical-align: top;\n",
       "    }\n",
       "\n",
       "    .dataframe thead th {\n",
       "        text-align: right;\n",
       "    }\n",
       "</style>\n",
       "<table border=\"1\" class=\"dataframe\">\n",
       "  <thead>\n",
       "    <tr style=\"text-align: right;\">\n",
       "      <th></th>\n",
       "      <th>Name</th>\n",
       "      <th>Rank score</th>\n",
       "      <th>Rank Stdev (% out 2929)</th>\n",
       "    </tr>\n",
       "  </thead>\n",
       "  <tbody>\n",
       "    <tr>\n",
       "      <th>0</th>\n",
       "      <td>CARDIAC ARREST</td>\n",
       "      <td>1.000000</td>\n",
       "      <td>0.897036</td>\n",
       "    </tr>\n",
       "    <tr>\n",
       "      <th>1</th>\n",
       "      <td>BONE CANCER METASTATIC</td>\n",
       "      <td>0.982921</td>\n",
       "      <td>0.204848</td>\n",
       "    </tr>\n",
       "    <tr>\n",
       "      <th>2</th>\n",
       "      <td>LEFT VENTRICULAR FAILURE</td>\n",
       "      <td>0.973702</td>\n",
       "      <td>0.839303</td>\n",
       "    </tr>\n",
       "    <tr>\n",
       "      <th>3</th>\n",
       "      <td>HIV INFECTION</td>\n",
       "      <td>0.971544</td>\n",
       "      <td>0.809613</td>\n",
       "    </tr>\n",
       "    <tr>\n",
       "      <th>4</th>\n",
       "      <td>ANAL CANCER</td>\n",
       "      <td>0.956513</td>\n",
       "      <td>0.156455</td>\n",
       "    </tr>\n",
       "  </tbody>\n",
       "</table>\n",
       "</div>"
      ],
      "text/plain": [
       "                       Name  Rank score  Rank Stdev (% out 2929)\n",
       "0            CARDIAC ARREST    1.000000                 0.897036\n",
       "1    BONE CANCER METASTATIC    0.982921                 0.204848\n",
       "2  LEFT VENTRICULAR FAILURE    0.973702                 0.839303\n",
       "3             HIV INFECTION    0.971544                 0.809613\n",
       "4               ANAL CANCER    0.956513                 0.156455"
      ]
     },
     "execution_count": 6,
     "metadata": {},
     "output_type": "execute_result"
    }
   ],
   "source": [
    "outRank.head()"
   ]
  },
  {
   "cell_type": "code",
   "execution_count": 7,
   "metadata": {
    "ExecuteTime": {
     "end_time": "2018-09-23T19:28:01.168436Z",
     "start_time": "2018-09-23T19:28:01.155903Z"
    }
   },
   "outputs": [
    {
     "data": {
      "text/html": [
       "<div>\n",
       "<style scoped>\n",
       "    .dataframe tbody tr th:only-of-type {\n",
       "        vertical-align: middle;\n",
       "    }\n",
       "\n",
       "    .dataframe tbody tr th {\n",
       "        vertical-align: top;\n",
       "    }\n",
       "\n",
       "    .dataframe thead th {\n",
       "        text-align: right;\n",
       "    }\n",
       "</style>\n",
       "<table border=\"1\" class=\"dataframe\">\n",
       "  <thead>\n",
       "    <tr style=\"text-align: right;\">\n",
       "      <th></th>\n",
       "      <th>outcome_concept_name</th>\n",
       "      <th>crowdsourced_name</th>\n",
       "    </tr>\n",
       "  </thead>\n",
       "  <tbody>\n",
       "    <tr>\n",
       "      <th>0</th>\n",
       "      <td>Urinary.tract.infectious.disease</td>\n",
       "      <td>URINARY TRACT INFECTION</td>\n",
       "    </tr>\n",
       "    <tr>\n",
       "      <th>1</th>\n",
       "      <td>Impaired.renal.function.disorder</td>\n",
       "      <td>RENAL IMPAIRMENT</td>\n",
       "    </tr>\n",
       "    <tr>\n",
       "      <th>2</th>\n",
       "      <td>Headache.disorder</td>\n",
       "      <td>HEADACHE</td>\n",
       "    </tr>\n",
       "    <tr>\n",
       "      <th>3</th>\n",
       "      <td>Thrombocytopenic.disorder</td>\n",
       "      <td>THROMBOCYTOPENIC PURPURA</td>\n",
       "    </tr>\n",
       "    <tr>\n",
       "      <th>4</th>\n",
       "      <td>Hemorrhage.AND/OR.hematoma.complicating.procedure</td>\n",
       "      <td>HAEMORRHAGE</td>\n",
       "    </tr>\n",
       "  </tbody>\n",
       "</table>\n",
       "</div>"
      ],
      "text/plain": [
       "                                outcome_concept_name         crowdsourced_name\n",
       "0                   Urinary.tract.infectious.disease   URINARY TRACT INFECTION\n",
       "1                   Impaired.renal.function.disorder          RENAL IMPAIRMENT\n",
       "2                                  Headache.disorder                  HEADACHE\n",
       "3                          Thrombocytopenic.disorder  THROMBOCYTOPENIC PURPURA\n",
       "4  Hemorrhage.AND/OR.hematoma.complicating.procedure               HAEMORRHAGE"
      ]
     },
     "execution_count": 7,
     "metadata": {},
     "output_type": "execute_result"
    }
   ],
   "source": [
    "df_rankDict.head()"
   ]
  },
  {
   "cell_type": "code",
   "execution_count": 13,
   "metadata": {
    "ExecuteTime": {
     "end_time": "2018-09-23T19:30:26.482324Z",
     "start_time": "2018-09-23T19:30:26.326800Z"
    }
   },
   "outputs": [
    {
     "name": "stdout",
     "output_type": "stream",
     "text": [
      "URINE ITCHING\n"
     ]
    }
   ],
   "source": [
    "#Check if outcome ranks are missing and if yes, set up regEx search\n",
    "\n",
    "outRank = pd.read_excel(ROOT + 'Outcome Severity Mapping/Ranked ADRs.xlsx', sheet_name='Ranked ADRs')\n",
    "df_rankDict = pd.read_feather(ROOT +\"Outcome Severity Mapping/Outcomes Dictionary.feather\")\n",
    "rankNames = outRank.Name.unique()\n",
    "rankNames = np.sort(rankNames)\n",
    "\n",
    "toDo = ['URINE ITCHING']#df_genderAsso_sig.query('outcome_rank==0').reset_index()['outcome_concept_name'].unique()\n",
    "done = df_rankDict['outcome_concept_name']\n",
    "\n",
    "for i in range(0, len(done)):\n",
    "    idx = np.argwhere(toDo == done[i])\n",
    "    toDo = np.delete(toDo, idx)\n",
    "#done = done[-1:]\n",
    "if (len(toDo) == 0):\n",
    "    print(\"All Done :)\")\n",
    "else:\n",
    "    search = toDo[0]\n",
    "    print(search)"
   ]
  },
  {
   "cell_type": "code",
   "execution_count": 14,
   "metadata": {
    "ExecuteTime": {
     "end_time": "2018-09-23T19:30:28.488778Z",
     "start_time": "2018-09-23T19:30:28.479639Z"
    }
   },
   "outputs": [
    {
     "name": "stdout",
     "output_type": "stream",
     "text": [
      "BLOOD URINE\n",
      "CELLS IN URINE\n",
      "MUSCLE TWITCHING\n",
      "PROTEIN URINE ABSENT\n",
      "SPECIFIC GRAVITY URINE INCREASED\n",
      "URINE ABNORMALITY\n",
      "URINE ANALYSIS ABNORMAL\n",
      "URINE COLOUR ABNORMAL\n",
      "URINE FLOW DECREASED\n",
      "URINE ODOUR ABNORMAL\n",
      "URINE OUTPUT\n",
      "URINE OUTPUT INCREASED\n",
      "WHITE BLOOD CELLS URINE POSITIVE\n"
     ]
    }
   ],
   "source": [
    "#RegEx search of crowdsourced dictionary\n",
    "\n",
    "#Print close-est \n",
    "\n",
    "\n",
    "\n",
    "words = search.upper().replace(\".\", \" \").split()\n",
    "newWords = []\n",
    "ignore = [\n",
    "    'ABNORMAL', 'SYNDROME', 'DISORDERS', 'BY', 'ITS', 'REACTION', 'AND/OR',\n",
    "    'RAISED', 'DECREASED', 'INCREASED', 'OF', 'AND', 'ON', 'DUE', \"THE\", 'TO',\n",
    "    'IN', 'FROM', 'WITH', 'DISORDER', 'DISEASE'\n",
    "]\n",
    "for word in words:\n",
    "    if word not in ignore:\n",
    "        #word = word.rstrip(word[-2:])\n",
    "        newWords.append(word)\n",
    "reg = '|'.join(word for word in newWords)\n",
    "for name in rankNames:\n",
    "    if (re.search(reg, name)):\n",
    "        #if (re.search('dil', name, re.IGNORECASE)):\n",
    "        print(name)"
   ]
  },
  {
   "cell_type": "code",
   "execution_count": 15,
   "metadata": {
    "ExecuteTime": {
     "end_time": "2018-09-23T19:36:10.346444Z",
     "start_time": "2018-09-23T19:36:10.324910Z"
    },
    "code_folding": [
     6,
     26,
     47
    ]
   },
   "outputs": [],
   "source": [
    "#ATC handling functions     \n",
    "\n",
    "#files needed by functions:\n",
    "ATC_mapping = pd.read_feather(ROOT+\"ATC Vocabulary/ATC Mapping.feather\")\n",
    "aeolus_IDNAME = pd.read_feather(ROOT+\"AEOLUS/drugIDdrugName_unique.feather\")\n",
    "\n",
    "def assignATC(df, ATC_level=\"3\"):\n",
    "    if (type(ATC_level)!=str):\n",
    "        ATC_level = str(ATC_level)\n",
    "    \n",
    "    ATC_col = \"ATC_\" + ATC_level + \"_name\"\n",
    "    df = df.assign(newCol=\"\").rename(columns={'newCol': ATC_col})\n",
    "\n",
    "    if (df.index.name == 'drug_concept_name'):\n",
    "        for drugName, row in df.iterrows():\n",
    "            drugID = aeolus_IDNAME.query('drug_concept_name==@drugName')['drug_concept_id'].values\n",
    "            ATC_val = ATC_mapping.query('drug_concept_id==@drugID')[ATC_col].values[0]\n",
    "            df.at[drugName, ATC_col] = ATC_val\n",
    "    else:\n",
    "        for idx, row in df.iterrows():\n",
    "            drugName = row.drug_concept_name\n",
    "            drugID = aeolus_IDNAME.query('drug_concept_name==@drugName')['drug_concept_id'].values\n",
    "            ATC_val = ATC_mapping.query('drug_concept_id==@drugID')[ATC_col].values[0]\n",
    "            df.at[idx, ATC_col] = ATC_val\n",
    "    return df\n",
    "\n",
    "def groupbyATC(df, ATC_level=\"3\", minimum_count=0, secondary=\"\"):\n",
    "    if (type(ATC_level)!=str):\n",
    "        ATC_level = str(ATC_level)\n",
    "\n",
    "    ATC_col = \"ATC_\" + ATC_level + \"_name\"\n",
    "    if(ATC_col not in df.columns):\n",
    "        df = assignATC(df, ATC_level=ATC_level)\n",
    "\n",
    "    if (bool(secondary)):\n",
    "        df_grouped = df.groupby([ATC_col, secondary]).count()\n",
    "    else:\n",
    "        df_grouped = df.groupby(ATC_col).count()\n",
    "\n",
    "    df_grouped = df_grouped.take(\n",
    "        [0], axis=1).rename(columns={df_grouped.columns[0]: \"count\"})\n",
    "\n",
    "    if (bool(minimum_count)):\n",
    "        df_grouped = df_grouped[df_grouped['count'] > minimum_count]\n",
    "\n",
    "    return df_grouped\n",
    "\n",
    "def getdataforATCgroup(df, ATCgroup, ATC_level=\"3\"):\n",
    "    if (type(ATC_level)!=str):\n",
    "        ATC_level = str(ATC_level)\n",
    "    \n",
    "    ATC_col = \"ATC_\" + ATC_level + \"_name\"\n",
    "    indicesToKeep = []\n",
    "\n",
    "    if (df.index.name == 'drug_concept_name'):\n",
    "        for drugName, row in df.iterrows():\n",
    "            drugID = aeolus_IDNAME.query('drug_concept_name==@drugName')[\n",
    "                'drug_concept_id'].values\n",
    "            ATC_val = ATC_mapping.query('drug_concept_id==@drugID')[\n",
    "                ATC_col].values[0]\n",
    "            if (ATC_val == ATCgroup):\n",
    "                indicesToKeep = np.append(indicesToKeep, drugName)\n",
    "    else:\n",
    "        for idx, row in df.iterrows():\n",
    "            drugName = row.drug_concept_name\n",
    "            drugID = aeolus_IDNAME.query('drug_concept_name==@drugName')[\n",
    "                'drug_concept_id'].values\n",
    "            ATC_val = ATC_mapping.query('drug_concept_id==@drugID')[\n",
    "                ATC_col].values[0]\n",
    "            if (ATC_val == ATCgroup):\n",
    "                indicesToKeep = np.append(indicesToKeep, idx)\n",
    "\n",
    "    return df.loc[indicesToKeep, :]"
   ]
  },
  {
   "cell_type": "code",
   "execution_count": 17,
   "metadata": {
    "ExecuteTime": {
     "end_time": "2018-09-23T19:36:44.516551Z",
     "start_time": "2018-09-23T19:36:44.493102Z"
    }
   },
   "outputs": [],
   "source": []
  },
  {
   "cell_type": "code",
   "execution_count": null,
   "metadata": {},
   "outputs": [],
   "source": []
  }
 ],
 "metadata": {
  "kernelspec": {
   "display_name": "Python 3",
   "language": "python",
   "name": "python3"
  },
  "language_info": {
   "codemirror_mode": {
    "name": "ipython",
    "version": 3
   },
   "file_extension": ".py",
   "mimetype": "text/x-python",
   "name": "python",
   "nbconvert_exporter": "python",
   "pygments_lexer": "ipython3",
   "version": "3.6.5"
  },
  "toc": {
   "base_numbering": 1,
   "nav_menu": {},
   "number_sections": false,
   "sideBar": true,
   "skip_h1_title": false,
   "title_cell": "Table of Contents",
   "title_sidebar": "Contents",
   "toc_cell": false,
   "toc_position": {},
   "toc_section_display": true,
   "toc_window_display": false
  }
 },
 "nbformat": 4,
 "nbformat_minor": 2
}
